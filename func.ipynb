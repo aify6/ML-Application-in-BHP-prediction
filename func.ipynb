{
 "cells": [
  {
   "cell_type": "code",
   "execution_count": 1,
   "metadata": {},
   "outputs": [],
   "source": [
    "import numpy as np\n",
    "import pandas as pd\n",
    "import matplotlib.pyplot as plt\n",
    "import seaborn as sns\n",
    "import pickle"
   ]
  },
  {
   "cell_type": "code",
   "execution_count": 2,
   "metadata": {},
   "outputs": [],
   "source": [
    "\n",
    "xls = pd.ExcelFile('volve_production_data.xlsx')\n",
    "df = pd.read_excel(xls, 'Daily Production Data')"
   ]
  },
  {
   "cell_type": "code",
   "execution_count": null,
   "metadata": {},
   "outputs": [],
   "source": [
    "def analysis():\n",
    "    df2 = df.drop(['DATE', 'WELL_ID', 'WELL_NAME_CODE', 'WELL_NAME', 'FIELD_CODE','FIELD_NAME', 'FACILITY_CODE', 'FACILITY_NAME', 'ON_STREAM_HRS','CASING_PRESSURE','DP_CHOKE_SIZE', \n",
    "         'CHOKE_UNITS','WATER_INJ_VOL','FLOW_KIND'],axis = 1)\n",
    "    "
   ]
  }
 ],
 "metadata": {
  "kernelspec": {
   "display_name": "Python 3.9.7 ('base')",
   "language": "python",
   "name": "python3"
  },
  "language_info": {
   "codemirror_mode": {
    "name": "ipython",
    "version": 3
   },
   "file_extension": ".py",
   "mimetype": "text/x-python",
   "name": "python",
   "nbconvert_exporter": "python",
   "pygments_lexer": "ipython3",
   "version": "3.9.7"
  },
  "orig_nbformat": 4,
  "vscode": {
   "interpreter": {
    "hash": "5fef461837bb02b8d6f2b1ad79aad1c15cdc0e04437e0874ffc35d82340806a3"
   }
  }
 },
 "nbformat": 4,
 "nbformat_minor": 2
}
