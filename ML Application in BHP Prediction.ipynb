{
 "cells": [
  {
   "cell_type": "markdown",
   "id": "e234f071",
   "metadata": {},
   "source": [
    "# PREDICTING BOTTOM HOLE PRESSURE USING MACHINE LEARNING\n",
    "#####  In the case of well control when using the choke, the bottom hole pressure is estimated to be equal to sum of hydrostatic pressure, annulus pressures losses and the backup pressure hold by the choke. "
   ]
  },
  {
   "cell_type": "markdown",
   "id": "beca3447",
   "metadata": {},
   "source": [
    "### IMPORTING LIBRARIES AND LOADING DATA"
   ]
  },
  {
   "cell_type": "code",
   "execution_count": 120,
   "id": "e66c1603",
   "metadata": {},
   "outputs": [],
   "source": [
    "import numpy as np\n",
    "import pandas as pd\n",
    "import matplotlib.pyplot as plt\n",
    "import seaborn as sns\n",
    "import pickle"
   ]
  },
  {
   "cell_type": "code",
   "execution_count": 121,
   "id": "50acbe2c",
   "metadata": {},
   "outputs": [],
   "source": [
    "xls = pd.ExcelFile('volve_production_data.xlsx')\n",
    "df = pd.read_excel(xls, 'Daily Production Data') "
   ]
  },
  {
   "cell_type": "code",
   "execution_count": 122,
   "id": "c087ac79",
   "metadata": {},
   "outputs": [
    {
     "data": {
      "text/html": [
       "<div>\n",
       "<style scoped>\n",
       "    .dataframe tbody tr th:only-of-type {\n",
       "        vertical-align: middle;\n",
       "    }\n",
       "\n",
       "    .dataframe tbody tr th {\n",
       "        vertical-align: top;\n",
       "    }\n",
       "\n",
       "    .dataframe thead th {\n",
       "        text-align: right;\n",
       "    }\n",
       "</style>\n",
       "<table border=\"1\" class=\"dataframe\">\n",
       "  <thead>\n",
       "    <tr style=\"text-align: right;\">\n",
       "      <th></th>\n",
       "      <th>DATEPRD</th>\n",
       "      <th>WELL_BORE_CODE</th>\n",
       "      <th>NPD_WELL_BORE_CODE</th>\n",
       "      <th>NPD_WELL_BORE_NAME</th>\n",
       "      <th>NPD_FIELD_CODE</th>\n",
       "      <th>NPD_FIELD_NAME</th>\n",
       "      <th>NPD_FACILITY_CODE</th>\n",
       "      <th>NPD_FACILITY_NAME</th>\n",
       "      <th>ON_STREAM_HRS</th>\n",
       "      <th>AVG_DOWNHOLE_PRESSURE</th>\n",
       "      <th>...</th>\n",
       "      <th>AVG_CHOKE_UOM</th>\n",
       "      <th>AVG_WHP_P</th>\n",
       "      <th>AVG_WHT_P</th>\n",
       "      <th>DP_CHOKE_SIZE</th>\n",
       "      <th>BORE_OIL_VOL</th>\n",
       "      <th>BORE_GAS_VOL</th>\n",
       "      <th>BORE_WAT_VOL</th>\n",
       "      <th>BORE_WI_VOL</th>\n",
       "      <th>FLOW_KIND</th>\n",
       "      <th>WELL_TYPE</th>\n",
       "    </tr>\n",
       "  </thead>\n",
       "  <tbody>\n",
       "    <tr>\n",
       "      <th>0</th>\n",
       "      <td>2014-04-07</td>\n",
       "      <td>NO 15/9-F-1 C</td>\n",
       "      <td>7405</td>\n",
       "      <td>15/9-F-1 C</td>\n",
       "      <td>3420717</td>\n",
       "      <td>VOLVE</td>\n",
       "      <td>369304</td>\n",
       "      <td>MÆRSK INSPIRER</td>\n",
       "      <td>0.0</td>\n",
       "      <td>0.00000</td>\n",
       "      <td>...</td>\n",
       "      <td>%</td>\n",
       "      <td>0.00000</td>\n",
       "      <td>0.00000</td>\n",
       "      <td>0.00000</td>\n",
       "      <td>0.0</td>\n",
       "      <td>0.0</td>\n",
       "      <td>0.0</td>\n",
       "      <td>NaN</td>\n",
       "      <td>production</td>\n",
       "      <td>WI</td>\n",
       "    </tr>\n",
       "    <tr>\n",
       "      <th>1</th>\n",
       "      <td>2014-04-08</td>\n",
       "      <td>NO 15/9-F-1 C</td>\n",
       "      <td>7405</td>\n",
       "      <td>15/9-F-1 C</td>\n",
       "      <td>3420717</td>\n",
       "      <td>VOLVE</td>\n",
       "      <td>369304</td>\n",
       "      <td>MÆRSK INSPIRER</td>\n",
       "      <td>0.0</td>\n",
       "      <td>NaN</td>\n",
       "      <td>...</td>\n",
       "      <td>%</td>\n",
       "      <td>0.00000</td>\n",
       "      <td>0.00000</td>\n",
       "      <td>0.00000</td>\n",
       "      <td>0.0</td>\n",
       "      <td>0.0</td>\n",
       "      <td>0.0</td>\n",
       "      <td>NaN</td>\n",
       "      <td>production</td>\n",
       "      <td>OP</td>\n",
       "    </tr>\n",
       "    <tr>\n",
       "      <th>2</th>\n",
       "      <td>2014-04-09</td>\n",
       "      <td>NO 15/9-F-1 C</td>\n",
       "      <td>7405</td>\n",
       "      <td>15/9-F-1 C</td>\n",
       "      <td>3420717</td>\n",
       "      <td>VOLVE</td>\n",
       "      <td>369304</td>\n",
       "      <td>MÆRSK INSPIRER</td>\n",
       "      <td>0.0</td>\n",
       "      <td>NaN</td>\n",
       "      <td>...</td>\n",
       "      <td>%</td>\n",
       "      <td>0.00000</td>\n",
       "      <td>0.00000</td>\n",
       "      <td>0.00000</td>\n",
       "      <td>0.0</td>\n",
       "      <td>0.0</td>\n",
       "      <td>0.0</td>\n",
       "      <td>NaN</td>\n",
       "      <td>production</td>\n",
       "      <td>OP</td>\n",
       "    </tr>\n",
       "    <tr>\n",
       "      <th>3</th>\n",
       "      <td>2014-04-10</td>\n",
       "      <td>NO 15/9-F-1 C</td>\n",
       "      <td>7405</td>\n",
       "      <td>15/9-F-1 C</td>\n",
       "      <td>3420717</td>\n",
       "      <td>VOLVE</td>\n",
       "      <td>369304</td>\n",
       "      <td>MÆRSK INSPIRER</td>\n",
       "      <td>0.0</td>\n",
       "      <td>NaN</td>\n",
       "      <td>...</td>\n",
       "      <td>%</td>\n",
       "      <td>0.00000</td>\n",
       "      <td>0.00000</td>\n",
       "      <td>0.00000</td>\n",
       "      <td>0.0</td>\n",
       "      <td>0.0</td>\n",
       "      <td>0.0</td>\n",
       "      <td>NaN</td>\n",
       "      <td>production</td>\n",
       "      <td>OP</td>\n",
       "    </tr>\n",
       "    <tr>\n",
       "      <th>4</th>\n",
       "      <td>2014-04-11</td>\n",
       "      <td>NO 15/9-F-1 C</td>\n",
       "      <td>7405</td>\n",
       "      <td>15/9-F-1 C</td>\n",
       "      <td>3420717</td>\n",
       "      <td>VOLVE</td>\n",
       "      <td>369304</td>\n",
       "      <td>MÆRSK INSPIRER</td>\n",
       "      <td>0.0</td>\n",
       "      <td>310.37614</td>\n",
       "      <td>...</td>\n",
       "      <td>%</td>\n",
       "      <td>33.09788</td>\n",
       "      <td>10.47992</td>\n",
       "      <td>33.07195</td>\n",
       "      <td>0.0</td>\n",
       "      <td>0.0</td>\n",
       "      <td>0.0</td>\n",
       "      <td>NaN</td>\n",
       "      <td>production</td>\n",
       "      <td>OP</td>\n",
       "    </tr>\n",
       "  </tbody>\n",
       "</table>\n",
       "<p>5 rows × 24 columns</p>\n",
       "</div>"
      ],
      "text/plain": [
       "     DATEPRD WELL_BORE_CODE  NPD_WELL_BORE_CODE NPD_WELL_BORE_NAME  \\\n",
       "0 2014-04-07  NO 15/9-F-1 C                7405         15/9-F-1 C   \n",
       "1 2014-04-08  NO 15/9-F-1 C                7405         15/9-F-1 C   \n",
       "2 2014-04-09  NO 15/9-F-1 C                7405         15/9-F-1 C   \n",
       "3 2014-04-10  NO 15/9-F-1 C                7405         15/9-F-1 C   \n",
       "4 2014-04-11  NO 15/9-F-1 C                7405         15/9-F-1 C   \n",
       "\n",
       "   NPD_FIELD_CODE NPD_FIELD_NAME  NPD_FACILITY_CODE NPD_FACILITY_NAME  \\\n",
       "0         3420717          VOLVE             369304    MÆRSK INSPIRER   \n",
       "1         3420717          VOLVE             369304    MÆRSK INSPIRER   \n",
       "2         3420717          VOLVE             369304    MÆRSK INSPIRER   \n",
       "3         3420717          VOLVE             369304    MÆRSK INSPIRER   \n",
       "4         3420717          VOLVE             369304    MÆRSK INSPIRER   \n",
       "\n",
       "   ON_STREAM_HRS  AVG_DOWNHOLE_PRESSURE  ...  AVG_CHOKE_UOM  AVG_WHP_P  \\\n",
       "0            0.0                0.00000  ...              %    0.00000   \n",
       "1            0.0                    NaN  ...              %    0.00000   \n",
       "2            0.0                    NaN  ...              %    0.00000   \n",
       "3            0.0                    NaN  ...              %    0.00000   \n",
       "4            0.0              310.37614  ...              %   33.09788   \n",
       "\n",
       "   AVG_WHT_P  DP_CHOKE_SIZE BORE_OIL_VOL  BORE_GAS_VOL  BORE_WAT_VOL  \\\n",
       "0    0.00000        0.00000          0.0           0.0           0.0   \n",
       "1    0.00000        0.00000          0.0           0.0           0.0   \n",
       "2    0.00000        0.00000          0.0           0.0           0.0   \n",
       "3    0.00000        0.00000          0.0           0.0           0.0   \n",
       "4   10.47992       33.07195          0.0           0.0           0.0   \n",
       "\n",
       "   BORE_WI_VOL   FLOW_KIND  WELL_TYPE  \n",
       "0          NaN  production         WI  \n",
       "1          NaN  production         OP  \n",
       "2          NaN  production         OP  \n",
       "3          NaN  production         OP  \n",
       "4          NaN  production         OP  \n",
       "\n",
       "[5 rows x 24 columns]"
      ]
     },
     "execution_count": 122,
     "metadata": {},
     "output_type": "execute_result"
    }
   ],
   "source": [
    "df.head()"
   ]
  },
  {
   "cell_type": "markdown",
   "id": "4afcf9a8",
   "metadata": {},
   "source": [
    "### DATA CLEANING AND PREPOCESSING"
   ]
  },
  {
   "cell_type": "code",
   "execution_count": 123,
   "id": "a7ebea02",
   "metadata": {},
   "outputs": [
    {
     "data": {
      "text/plain": [
       "Index(['DATEPRD', 'WELL_BORE_CODE', 'NPD_WELL_BORE_CODE', 'NPD_WELL_BORE_NAME',\n",
       "       'NPD_FIELD_CODE', 'NPD_FIELD_NAME', 'NPD_FACILITY_CODE',\n",
       "       'NPD_FACILITY_NAME', 'ON_STREAM_HRS', 'AVG_DOWNHOLE_PRESSURE',\n",
       "       'AVG_DOWNHOLE_TEMPERATURE', 'AVG_DP_TUBING', 'AVG_ANNULUS_PRESS',\n",
       "       'AVG_CHOKE_SIZE_P', 'AVG_CHOKE_UOM', 'AVG_WHP_P', 'AVG_WHT_P',\n",
       "       'DP_CHOKE_SIZE', 'BORE_OIL_VOL', 'BORE_GAS_VOL', 'BORE_WAT_VOL',\n",
       "       'BORE_WI_VOL', 'FLOW_KIND', 'WELL_TYPE'],\n",
       "      dtype='object')"
      ]
     },
     "execution_count": 123,
     "metadata": {},
     "output_type": "execute_result"
    }
   ],
   "source": [
    "# Lets see all columns first\n",
    "df.columns"
   ]
  },
  {
   "cell_type": "code",
   "execution_count": 124,
   "id": "1bb29d72",
   "metadata": {},
   "outputs": [],
   "source": [
    "# Rename column names to a more appropriate one \n",
    "column_names = {\n",
    "    'DATEPRD': 'DATE',\n",
    "    'WELL_BORE_CODE': 'WELL_ID',\n",
    "    'NPD_WELL_BORE_CODE': 'WELL_NAME_CODE',\n",
    "    'NPD_WELL_BORE_NAME': 'WELL_NAME',\n",
    "    'NPD_FIELD_CODE': 'FIELD_CODE',\n",
    "    'NPD_FIELD_NAME': 'FIELD_NAME',\n",
    "    'NPD_FACILITY_CODE': 'FACILITY_CODE',\n",
    "    'NPD_FACILITY_NAME': 'FACILITY_NAME',\n",
    "    'ON_STREAM_HRS': 'ON_STREAM_HRS',\n",
    "    'AVG_DOWNHOLE_PRESSURE': 'BH_PRESSURE',\n",
    "    'AVG_DOWNHOLE_TEMPERATURE': 'BH_TEMPERATURE',\n",
    "    'AVG_DP_TUBING': 'DP_TUBING',\n",
    "    'AVG_ANNULUS_PRESS': 'CASING_PRESSURE',\n",
    "    'AVG_CHOKE_SIZE_P': 'CHOKE_SIZE_PERCENTAGE',\n",
    "    'AVG_CHOKE_UOM': 'CHOKE_UNITS',\n",
    "    'AVG_WHP_P': 'WH_PRESSURE',\n",
    "    'AVG_WHT_P': 'WH_TEMPERATURE',\n",
    "    'DP_CHOKE_SIZE': 'DP_CHOKE_SIZE',\n",
    "    'BORE_OIL_VOL': 'OIL_VOL',\n",
    "    'BORE_GAS_VOL': 'GAS_VOL',\n",
    "    'BORE_WAT_VOL': 'WAT_VOL',\n",
    "    'BORE_WI_VOL': 'WATER_INJ_VOL',\n",
    "    'FLOW_KIND': 'FLOW_KIND',\n",
    "    'WELL_TYPE': 'WELL_TYPE'\n",
    "}\n",
    "\n",
    "df.rename(columns=column_names, inplace = True)"
   ]
  },
  {
   "cell_type": "code",
   "execution_count": 125,
   "id": "43fdcf5b",
   "metadata": {},
   "outputs": [
    {
     "data": {
      "text/html": [
       "<div>\n",
       "<style scoped>\n",
       "    .dataframe tbody tr th:only-of-type {\n",
       "        vertical-align: middle;\n",
       "    }\n",
       "\n",
       "    .dataframe tbody tr th {\n",
       "        vertical-align: top;\n",
       "    }\n",
       "\n",
       "    .dataframe thead th {\n",
       "        text-align: right;\n",
       "    }\n",
       "</style>\n",
       "<table border=\"1\" class=\"dataframe\">\n",
       "  <thead>\n",
       "    <tr style=\"text-align: right;\">\n",
       "      <th></th>\n",
       "      <th>DATE</th>\n",
       "      <th>WELL_ID</th>\n",
       "      <th>WELL_NAME_CODE</th>\n",
       "      <th>WELL_NAME</th>\n",
       "      <th>FIELD_CODE</th>\n",
       "      <th>FIELD_NAME</th>\n",
       "      <th>FACILITY_CODE</th>\n",
       "      <th>FACILITY_NAME</th>\n",
       "      <th>ON_STREAM_HRS</th>\n",
       "      <th>BH_PRESSURE</th>\n",
       "      <th>...</th>\n",
       "      <th>CHOKE_UNITS</th>\n",
       "      <th>WH_PRESSURE</th>\n",
       "      <th>WH_TEMPERATURE</th>\n",
       "      <th>DP_CHOKE_SIZE</th>\n",
       "      <th>OIL_VOL</th>\n",
       "      <th>GAS_VOL</th>\n",
       "      <th>WAT_VOL</th>\n",
       "      <th>WATER_INJ_VOL</th>\n",
       "      <th>FLOW_KIND</th>\n",
       "      <th>WELL_TYPE</th>\n",
       "    </tr>\n",
       "  </thead>\n",
       "  <tbody>\n",
       "    <tr>\n",
       "      <th>0</th>\n",
       "      <td>2014-04-07</td>\n",
       "      <td>NO 15/9-F-1 C</td>\n",
       "      <td>7405</td>\n",
       "      <td>15/9-F-1 C</td>\n",
       "      <td>3420717</td>\n",
       "      <td>VOLVE</td>\n",
       "      <td>369304</td>\n",
       "      <td>MÆRSK INSPIRER</td>\n",
       "      <td>0.0</td>\n",
       "      <td>0.0</td>\n",
       "      <td>...</td>\n",
       "      <td>%</td>\n",
       "      <td>0.0</td>\n",
       "      <td>0.0</td>\n",
       "      <td>0.0</td>\n",
       "      <td>0.0</td>\n",
       "      <td>0.0</td>\n",
       "      <td>0.0</td>\n",
       "      <td>NaN</td>\n",
       "      <td>production</td>\n",
       "      <td>WI</td>\n",
       "    </tr>\n",
       "    <tr>\n",
       "      <th>1</th>\n",
       "      <td>2014-04-08</td>\n",
       "      <td>NO 15/9-F-1 C</td>\n",
       "      <td>7405</td>\n",
       "      <td>15/9-F-1 C</td>\n",
       "      <td>3420717</td>\n",
       "      <td>VOLVE</td>\n",
       "      <td>369304</td>\n",
       "      <td>MÆRSK INSPIRER</td>\n",
       "      <td>0.0</td>\n",
       "      <td>NaN</td>\n",
       "      <td>...</td>\n",
       "      <td>%</td>\n",
       "      <td>0.0</td>\n",
       "      <td>0.0</td>\n",
       "      <td>0.0</td>\n",
       "      <td>0.0</td>\n",
       "      <td>0.0</td>\n",
       "      <td>0.0</td>\n",
       "      <td>NaN</td>\n",
       "      <td>production</td>\n",
       "      <td>OP</td>\n",
       "    </tr>\n",
       "  </tbody>\n",
       "</table>\n",
       "<p>2 rows × 24 columns</p>\n",
       "</div>"
      ],
      "text/plain": [
       "        DATE        WELL_ID  WELL_NAME_CODE   WELL_NAME  FIELD_CODE  \\\n",
       "0 2014-04-07  NO 15/9-F-1 C            7405  15/9-F-1 C     3420717   \n",
       "1 2014-04-08  NO 15/9-F-1 C            7405  15/9-F-1 C     3420717   \n",
       "\n",
       "  FIELD_NAME  FACILITY_CODE   FACILITY_NAME  ON_STREAM_HRS  BH_PRESSURE  ...  \\\n",
       "0      VOLVE         369304  MÆRSK INSPIRER            0.0          0.0  ...   \n",
       "1      VOLVE         369304  MÆRSK INSPIRER            0.0          NaN  ...   \n",
       "\n",
       "   CHOKE_UNITS  WH_PRESSURE  WH_TEMPERATURE  DP_CHOKE_SIZE OIL_VOL  GAS_VOL  \\\n",
       "0            %          0.0             0.0            0.0     0.0      0.0   \n",
       "1            %          0.0             0.0            0.0     0.0      0.0   \n",
       "\n",
       "   WAT_VOL  WATER_INJ_VOL   FLOW_KIND  WELL_TYPE  \n",
       "0      0.0            NaN  production         WI  \n",
       "1      0.0            NaN  production         OP  \n",
       "\n",
       "[2 rows x 24 columns]"
      ]
     },
     "execution_count": 125,
     "metadata": {},
     "output_type": "execute_result"
    }
   ],
   "source": [
    "df.head(2)"
   ]
  },
  {
   "cell_type": "code",
   "execution_count": 126,
   "id": "1ef4a53a",
   "metadata": {},
   "outputs": [],
   "source": [
    "# Drop columns irrelevant to our objective (not relating to bottom hole pressure)\n",
    "df2 = df.drop(['DATE', 'WELL_ID', 'WELL_NAME_CODE', 'WELL_NAME', 'FIELD_CODE','FIELD_NAME', 'FACILITY_CODE', 'FACILITY_NAME', 'ON_STREAM_HRS','CASING_PRESSURE','DP_CHOKE_SIZE', \n",
    "         'CHOKE_UNITS','WATER_INJ_VOL','FLOW_KIND'],axis = 1)"
   ]
  },
  {
   "cell_type": "code",
   "execution_count": 127,
   "id": "ca71acb1",
   "metadata": {},
   "outputs": [
    {
     "data": {
      "text/html": [
       "<div>\n",
       "<style scoped>\n",
       "    .dataframe tbody tr th:only-of-type {\n",
       "        vertical-align: middle;\n",
       "    }\n",
       "\n",
       "    .dataframe tbody tr th {\n",
       "        vertical-align: top;\n",
       "    }\n",
       "\n",
       "    .dataframe thead th {\n",
       "        text-align: right;\n",
       "    }\n",
       "</style>\n",
       "<table border=\"1\" class=\"dataframe\">\n",
       "  <thead>\n",
       "    <tr style=\"text-align: right;\">\n",
       "      <th></th>\n",
       "      <th>BH_PRESSURE</th>\n",
       "      <th>BH_TEMPERATURE</th>\n",
       "      <th>DP_TUBING</th>\n",
       "      <th>CHOKE_SIZE_PERCENTAGE</th>\n",
       "      <th>WH_PRESSURE</th>\n",
       "      <th>WH_TEMPERATURE</th>\n",
       "      <th>OIL_VOL</th>\n",
       "      <th>GAS_VOL</th>\n",
       "      <th>WAT_VOL</th>\n",
       "    </tr>\n",
       "  </thead>\n",
       "  <tbody>\n",
       "    <tr>\n",
       "      <th>1</th>\n",
       "      <td>NaN</td>\n",
       "      <td>NaN</td>\n",
       "      <td>NaN</td>\n",
       "      <td>1.003059</td>\n",
       "      <td>0.0</td>\n",
       "      <td>0.0</td>\n",
       "      <td>0.0</td>\n",
       "      <td>0.0</td>\n",
       "      <td>0.0</td>\n",
       "    </tr>\n",
       "    <tr>\n",
       "      <th>2</th>\n",
       "      <td>NaN</td>\n",
       "      <td>NaN</td>\n",
       "      <td>NaN</td>\n",
       "      <td>0.979008</td>\n",
       "      <td>0.0</td>\n",
       "      <td>0.0</td>\n",
       "      <td>0.0</td>\n",
       "      <td>0.0</td>\n",
       "      <td>0.0</td>\n",
       "    </tr>\n",
       "    <tr>\n",
       "      <th>3</th>\n",
       "      <td>NaN</td>\n",
       "      <td>NaN</td>\n",
       "      <td>NaN</td>\n",
       "      <td>0.545759</td>\n",
       "      <td>0.0</td>\n",
       "      <td>0.0</td>\n",
       "      <td>0.0</td>\n",
       "      <td>0.0</td>\n",
       "      <td>0.0</td>\n",
       "    </tr>\n",
       "  </tbody>\n",
       "</table>\n",
       "</div>"
      ],
      "text/plain": [
       "   BH_PRESSURE  BH_TEMPERATURE  DP_TUBING  CHOKE_SIZE_PERCENTAGE  WH_PRESSURE  \\\n",
       "1          NaN             NaN        NaN               1.003059          0.0   \n",
       "2          NaN             NaN        NaN               0.979008          0.0   \n",
       "3          NaN             NaN        NaN               0.545759          0.0   \n",
       "\n",
       "   WH_TEMPERATURE  OIL_VOL  GAS_VOL  WAT_VOL  \n",
       "1             0.0      0.0      0.0      0.0  \n",
       "2             0.0      0.0      0.0      0.0  \n",
       "3             0.0      0.0      0.0      0.0  "
      ]
     },
     "execution_count": 127,
     "metadata": {},
     "output_type": "execute_result"
    }
   ],
   "source": [
    "# Selecting only oil producer well for our prediction\n",
    "\n",
    "df3 =df2[df2['WELL_TYPE']=='OP']\n",
    "df_prod = df3.drop(['WELL_TYPE'],axis = 1)\n",
    "df_prod.head(3)"
   ]
  },
  {
   "cell_type": "code",
   "execution_count": 128,
   "id": "7fa37298",
   "metadata": {},
   "outputs": [
    {
     "data": {
      "text/html": [
       "<div>\n",
       "<style scoped>\n",
       "    .dataframe tbody tr th:only-of-type {\n",
       "        vertical-align: middle;\n",
       "    }\n",
       "\n",
       "    .dataframe tbody tr th {\n",
       "        vertical-align: top;\n",
       "    }\n",
       "\n",
       "    .dataframe thead th {\n",
       "        text-align: right;\n",
       "    }\n",
       "</style>\n",
       "<table border=\"1\" class=\"dataframe\">\n",
       "  <thead>\n",
       "    <tr style=\"text-align: right;\">\n",
       "      <th></th>\n",
       "      <th>BH_PRESSURE</th>\n",
       "      <th>BH_TEMPERATURE</th>\n",
       "      <th>DP_TUBING</th>\n",
       "      <th>CHOKE_SIZE_PERCENTAGE</th>\n",
       "      <th>WH_PRESSURE</th>\n",
       "      <th>WH_TEMPERATURE</th>\n",
       "      <th>OIL_VOL</th>\n",
       "      <th>GAS_VOL</th>\n",
       "      <th>WAT_VOL</th>\n",
       "    </tr>\n",
       "  </thead>\n",
       "  <tbody>\n",
       "    <tr>\n",
       "      <th>count</th>\n",
       "      <td>8978.000000</td>\n",
       "      <td>8978.000000</td>\n",
       "      <td>8978.000000</td>\n",
       "      <td>8901.000000</td>\n",
       "      <td>9137.000000</td>\n",
       "      <td>9129.000000</td>\n",
       "      <td>9143.000000</td>\n",
       "      <td>9143.000000</td>\n",
       "      <td>9143.000000</td>\n",
       "    </tr>\n",
       "    <tr>\n",
       "      <th>mean</th>\n",
       "      <td>181.820413</td>\n",
       "      <td>77.168114</td>\n",
       "      <td>154.045010</td>\n",
       "      <td>55.186725</td>\n",
       "      <td>45.442082</td>\n",
       "      <td>67.801178</td>\n",
       "      <td>1097.433089</td>\n",
       "      <td>161310.558658</td>\n",
       "      <td>1675.344996</td>\n",
       "    </tr>\n",
       "    <tr>\n",
       "      <th>std</th>\n",
       "      <td>109.707241</td>\n",
       "      <td>45.654600</td>\n",
       "      <td>76.743653</td>\n",
       "      <td>36.666334</td>\n",
       "      <td>24.726268</td>\n",
       "      <td>27.669018</td>\n",
       "      <td>1324.191424</td>\n",
       "      <td>188224.781732</td>\n",
       "      <td>1707.141019</td>\n",
       "    </tr>\n",
       "    <tr>\n",
       "      <th>min</th>\n",
       "      <td>0.000000</td>\n",
       "      <td>0.000000</td>\n",
       "      <td>0.000000</td>\n",
       "      <td>0.000000</td>\n",
       "      <td>0.000000</td>\n",
       "      <td>0.000000</td>\n",
       "      <td>0.000000</td>\n",
       "      <td>0.000000</td>\n",
       "      <td>-457.840000</td>\n",
       "    </tr>\n",
       "    <tr>\n",
       "      <th>25%</th>\n",
       "      <td>0.000000</td>\n",
       "      <td>0.000000</td>\n",
       "      <td>84.163947</td>\n",
       "      <td>18.992216</td>\n",
       "      <td>31.175563</td>\n",
       "      <td>56.848805</td>\n",
       "      <td>190.890000</td>\n",
       "      <td>29440.970000</td>\n",
       "      <td>20.765000</td>\n",
       "    </tr>\n",
       "    <tr>\n",
       "      <th>50%</th>\n",
       "      <td>232.927076</td>\n",
       "      <td>103.186689</td>\n",
       "      <td>175.603884</td>\n",
       "      <td>52.106021</td>\n",
       "      <td>37.989435</td>\n",
       "      <td>80.093188</td>\n",
       "      <td>559.220000</td>\n",
       "      <td>87857.650000</td>\n",
       "      <td>1108.050000</td>\n",
       "    </tr>\n",
       "    <tr>\n",
       "      <th>75%</th>\n",
       "      <td>255.405756</td>\n",
       "      <td>106.276408</td>\n",
       "      <td>204.335726</td>\n",
       "      <td>99.923984</td>\n",
       "      <td>57.183170</td>\n",
       "      <td>88.072977</td>\n",
       "      <td>1346.340000</td>\n",
       "      <td>202861.570000</td>\n",
       "      <td>3263.625000</td>\n",
       "    </tr>\n",
       "    <tr>\n",
       "      <th>max</th>\n",
       "      <td>397.588550</td>\n",
       "      <td>108.502178</td>\n",
       "      <td>345.906770</td>\n",
       "      <td>100.000000</td>\n",
       "      <td>137.311030</td>\n",
       "      <td>93.509584</td>\n",
       "      <td>5901.840000</td>\n",
       "      <td>851131.520000</td>\n",
       "      <td>8019.740000</td>\n",
       "    </tr>\n",
       "  </tbody>\n",
       "</table>\n",
       "</div>"
      ],
      "text/plain": [
       "       BH_PRESSURE  BH_TEMPERATURE    DP_TUBING  CHOKE_SIZE_PERCENTAGE  \\\n",
       "count  8978.000000     8978.000000  8978.000000            8901.000000   \n",
       "mean    181.820413       77.168114   154.045010              55.186725   \n",
       "std     109.707241       45.654600    76.743653              36.666334   \n",
       "min       0.000000        0.000000     0.000000               0.000000   \n",
       "25%       0.000000        0.000000    84.163947              18.992216   \n",
       "50%     232.927076      103.186689   175.603884              52.106021   \n",
       "75%     255.405756      106.276408   204.335726              99.923984   \n",
       "max     397.588550      108.502178   345.906770             100.000000   \n",
       "\n",
       "       WH_PRESSURE  WH_TEMPERATURE      OIL_VOL        GAS_VOL      WAT_VOL  \n",
       "count  9137.000000     9129.000000  9143.000000    9143.000000  9143.000000  \n",
       "mean     45.442082       67.801178  1097.433089  161310.558658  1675.344996  \n",
       "std      24.726268       27.669018  1324.191424  188224.781732  1707.141019  \n",
       "min       0.000000        0.000000     0.000000       0.000000  -457.840000  \n",
       "25%      31.175563       56.848805   190.890000   29440.970000    20.765000  \n",
       "50%      37.989435       80.093188   559.220000   87857.650000  1108.050000  \n",
       "75%      57.183170       88.072977  1346.340000  202861.570000  3263.625000  \n",
       "max     137.311030       93.509584  5901.840000  851131.520000  8019.740000  "
      ]
     },
     "execution_count": 128,
     "metadata": {},
     "output_type": "execute_result"
    }
   ],
   "source": [
    "df_prod.describe()"
   ]
  },
  {
   "cell_type": "code",
   "execution_count": 129,
   "id": "c1679516",
   "metadata": {},
   "outputs": [
    {
     "name": "stdout",
     "output_type": "stream",
     "text": [
      "<class 'pandas.core.frame.DataFrame'>\n",
      "Int64Index: 9143 entries, 1 to 15632\n",
      "Data columns (total 9 columns):\n",
      " #   Column                 Non-Null Count  Dtype  \n",
      "---  ------                 --------------  -----  \n",
      " 0   BH_PRESSURE            8978 non-null   float64\n",
      " 1   BH_TEMPERATURE         8978 non-null   float64\n",
      " 2   DP_TUBING              8978 non-null   float64\n",
      " 3   CHOKE_SIZE_PERCENTAGE  8901 non-null   float64\n",
      " 4   WH_PRESSURE            9137 non-null   float64\n",
      " 5   WH_TEMPERATURE         9129 non-null   float64\n",
      " 6   OIL_VOL                9143 non-null   float64\n",
      " 7   GAS_VOL                9143 non-null   float64\n",
      " 8   WAT_VOL                9143 non-null   float64\n",
      "dtypes: float64(9)\n",
      "memory usage: 714.3 KB\n"
     ]
    }
   ],
   "source": [
    "df_prod.info()"
   ]
  },
  {
   "cell_type": "code",
   "execution_count": 130,
   "id": "8fd975bd",
   "metadata": {},
   "outputs": [
    {
     "data": {
      "text/html": [
       "<div>\n",
       "<style scoped>\n",
       "    .dataframe tbody tr th:only-of-type {\n",
       "        vertical-align: middle;\n",
       "    }\n",
       "\n",
       "    .dataframe tbody tr th {\n",
       "        vertical-align: top;\n",
       "    }\n",
       "\n",
       "    .dataframe thead th {\n",
       "        text-align: right;\n",
       "    }\n",
       "</style>\n",
       "<table border=\"1\" class=\"dataframe\">\n",
       "  <thead>\n",
       "    <tr style=\"text-align: right;\">\n",
       "      <th></th>\n",
       "      <th>BH_PRESSURE</th>\n",
       "      <th>BH_TEMPERATURE</th>\n",
       "      <th>DP_TUBING</th>\n",
       "      <th>CHOKE_SIZE_PERCENTAGE</th>\n",
       "      <th>WH_PRESSURE</th>\n",
       "      <th>WH_TEMPERATURE</th>\n",
       "      <th>OIL_VOL</th>\n",
       "      <th>GAS_VOL</th>\n",
       "      <th>WAT_VOL</th>\n",
       "    </tr>\n",
       "  </thead>\n",
       "  <tbody>\n",
       "    <tr>\n",
       "      <th>1</th>\n",
       "      <td>NaN</td>\n",
       "      <td>NaN</td>\n",
       "      <td>NaN</td>\n",
       "      <td>1.003059</td>\n",
       "      <td>0.00000</td>\n",
       "      <td>0.00000</td>\n",
       "      <td>0.0</td>\n",
       "      <td>0.0</td>\n",
       "      <td>0.0</td>\n",
       "    </tr>\n",
       "    <tr>\n",
       "      <th>2</th>\n",
       "      <td>NaN</td>\n",
       "      <td>NaN</td>\n",
       "      <td>NaN</td>\n",
       "      <td>0.979008</td>\n",
       "      <td>0.00000</td>\n",
       "      <td>0.00000</td>\n",
       "      <td>0.0</td>\n",
       "      <td>0.0</td>\n",
       "      <td>0.0</td>\n",
       "    </tr>\n",
       "    <tr>\n",
       "      <th>3</th>\n",
       "      <td>NaN</td>\n",
       "      <td>NaN</td>\n",
       "      <td>NaN</td>\n",
       "      <td>0.545759</td>\n",
       "      <td>0.00000</td>\n",
       "      <td>0.00000</td>\n",
       "      <td>0.0</td>\n",
       "      <td>0.0</td>\n",
       "      <td>0.0</td>\n",
       "    </tr>\n",
       "    <tr>\n",
       "      <th>4</th>\n",
       "      <td>310.37614</td>\n",
       "      <td>96.87589</td>\n",
       "      <td>277.27826</td>\n",
       "      <td>1.215987</td>\n",
       "      <td>33.09788</td>\n",
       "      <td>10.47992</td>\n",
       "      <td>0.0</td>\n",
       "      <td>0.0</td>\n",
       "      <td>0.0</td>\n",
       "    </tr>\n",
       "    <tr>\n",
       "      <th>5</th>\n",
       "      <td>303.50078</td>\n",
       "      <td>96.92339</td>\n",
       "      <td>281.44744</td>\n",
       "      <td>3.087015</td>\n",
       "      <td>22.05334</td>\n",
       "      <td>8.70429</td>\n",
       "      <td>0.0</td>\n",
       "      <td>0.0</td>\n",
       "      <td>0.0</td>\n",
       "    </tr>\n",
       "    <tr>\n",
       "      <th>...</th>\n",
       "      <td>...</td>\n",
       "      <td>...</td>\n",
       "      <td>...</td>\n",
       "      <td>...</td>\n",
       "      <td>...</td>\n",
       "      <td>...</td>\n",
       "      <td>...</td>\n",
       "      <td>...</td>\n",
       "      <td>...</td>\n",
       "    </tr>\n",
       "    <tr>\n",
       "      <th>15628</th>\n",
       "      <td>NaN</td>\n",
       "      <td>NaN</td>\n",
       "      <td>NaN</td>\n",
       "      <td>0.673718</td>\n",
       "      <td>0.08545</td>\n",
       "      <td>0.22889</td>\n",
       "      <td>0.0</td>\n",
       "      <td>0.0</td>\n",
       "      <td>0.0</td>\n",
       "    </tr>\n",
       "    <tr>\n",
       "      <th>15629</th>\n",
       "      <td>NaN</td>\n",
       "      <td>NaN</td>\n",
       "      <td>NaN</td>\n",
       "      <td>0.636088</td>\n",
       "      <td>0.07776</td>\n",
       "      <td>0.22879</td>\n",
       "      <td>0.0</td>\n",
       "      <td>0.0</td>\n",
       "      <td>0.0</td>\n",
       "    </tr>\n",
       "    <tr>\n",
       "      <th>15630</th>\n",
       "      <td>NaN</td>\n",
       "      <td>NaN</td>\n",
       "      <td>NaN</td>\n",
       "      <td>0.670794</td>\n",
       "      <td>0.08545</td>\n",
       "      <td>0.22914</td>\n",
       "      <td>0.0</td>\n",
       "      <td>0.0</td>\n",
       "      <td>0.0</td>\n",
       "    </tr>\n",
       "    <tr>\n",
       "      <th>15631</th>\n",
       "      <td>NaN</td>\n",
       "      <td>NaN</td>\n",
       "      <td>NaN</td>\n",
       "      <td>0.664393</td>\n",
       "      <td>0.08544</td>\n",
       "      <td>0.22896</td>\n",
       "      <td>0.0</td>\n",
       "      <td>0.0</td>\n",
       "      <td>0.0</td>\n",
       "    </tr>\n",
       "    <tr>\n",
       "      <th>15632</th>\n",
       "      <td>NaN</td>\n",
       "      <td>NaN</td>\n",
       "      <td>NaN</td>\n",
       "      <td>0.624660</td>\n",
       "      <td>0.07497</td>\n",
       "      <td>0.22846</td>\n",
       "      <td>0.0</td>\n",
       "      <td>0.0</td>\n",
       "      <td>0.0</td>\n",
       "    </tr>\n",
       "  </tbody>\n",
       "</table>\n",
       "<p>8995 rows × 9 columns</p>\n",
       "</div>"
      ],
      "text/plain": [
       "       BH_PRESSURE  BH_TEMPERATURE  DP_TUBING  CHOKE_SIZE_PERCENTAGE  \\\n",
       "1              NaN             NaN        NaN               1.003059   \n",
       "2              NaN             NaN        NaN               0.979008   \n",
       "3              NaN             NaN        NaN               0.545759   \n",
       "4        310.37614        96.87589  277.27826               1.215987   \n",
       "5        303.50078        96.92339  281.44744               3.087015   \n",
       "...            ...             ...        ...                    ...   \n",
       "15628          NaN             NaN        NaN               0.673718   \n",
       "15629          NaN             NaN        NaN               0.636088   \n",
       "15630          NaN             NaN        NaN               0.670794   \n",
       "15631          NaN             NaN        NaN               0.664393   \n",
       "15632          NaN             NaN        NaN               0.624660   \n",
       "\n",
       "       WH_PRESSURE  WH_TEMPERATURE  OIL_VOL  GAS_VOL  WAT_VOL  \n",
       "1          0.00000         0.00000      0.0      0.0      0.0  \n",
       "2          0.00000         0.00000      0.0      0.0      0.0  \n",
       "3          0.00000         0.00000      0.0      0.0      0.0  \n",
       "4         33.09788        10.47992      0.0      0.0      0.0  \n",
       "5         22.05334         8.70429      0.0      0.0      0.0  \n",
       "...            ...             ...      ...      ...      ...  \n",
       "15628      0.08545         0.22889      0.0      0.0      0.0  \n",
       "15629      0.07776         0.22879      0.0      0.0      0.0  \n",
       "15630      0.08545         0.22914      0.0      0.0      0.0  \n",
       "15631      0.08544         0.22896      0.0      0.0      0.0  \n",
       "15632      0.07497         0.22846      0.0      0.0      0.0  \n",
       "\n",
       "[8995 rows x 9 columns]"
      ]
     },
     "execution_count": 130,
     "metadata": {},
     "output_type": "execute_result"
    }
   ],
   "source": [
    "#checking for duplicates\n",
    "df_prod.duplicated()\n",
    "df_prod.drop_duplicates()"
   ]
  },
  {
   "cell_type": "code",
   "execution_count": 131,
   "id": "a7801709",
   "metadata": {},
   "outputs": [
    {
     "data": {
      "text/plain": [
       "BH_PRESSURE              165\n",
       "BH_TEMPERATURE           165\n",
       "DP_TUBING                165\n",
       "CHOKE_SIZE_PERCENTAGE    242\n",
       "WH_PRESSURE                6\n",
       "WH_TEMPERATURE            14\n",
       "OIL_VOL                    0\n",
       "GAS_VOL                    0\n",
       "WAT_VOL                    0\n",
       "dtype: int64"
      ]
     },
     "execution_count": 131,
     "metadata": {},
     "output_type": "execute_result"
    }
   ],
   "source": [
    "df_prod.isna().sum()"
   ]
  },
  {
   "cell_type": "code",
   "execution_count": 132,
   "id": "2c2228ed",
   "metadata": {},
   "outputs": [
    {
     "data": {
      "text/plain": [
       "BH_PRESSURE              0\n",
       "BH_TEMPERATURE           0\n",
       "DP_TUBING                0\n",
       "CHOKE_SIZE_PERCENTAGE    0\n",
       "WH_PRESSURE              0\n",
       "WH_TEMPERATURE           0\n",
       "OIL_VOL                  0\n",
       "GAS_VOL                  0\n",
       "WAT_VOL                  0\n",
       "dtype: int64"
      ]
     },
     "execution_count": 132,
     "metadata": {},
     "output_type": "execute_result"
    }
   ],
   "source": [
    "df_prod.dropna(inplace=True)\n",
    "df_prod.reset_index(inplace=True, drop=True)\n",
    "df_prod.isna().sum()"
   ]
  },
  {
   "cell_type": "code",
   "execution_count": 133,
   "id": "51f2d809",
   "metadata": {},
   "outputs": [],
   "source": [
    "# We still need to do more data cleaning\n",
    "# My model will be predictive only while the well is open\n",
    "df_prod = df_prod[(df_prod['OIL_VOL']>0)& (df_prod['BH_PRESSURE']>0)]"
   ]
  },
  {
   "cell_type": "markdown",
   "id": "ba168f64",
   "metadata": {},
   "source": [
    "## Feature Engineering\n",
    "#### This is important to make our model more efficient, domain expertise is a main skill needed in this step, We will not user water/ Gas volumes, but instead we will use ratios, because in the oil industry it is well known that GOR and WOR are very good performance indicators in our analysis"
   ]
  },
  {
   "cell_type": "code",
   "execution_count": 134,
   "id": "c272e5bd",
   "metadata": {},
   "outputs": [],
   "source": [
    "df_prod['GOR'] = df_prod['GAS_VOL']/df_prod['OIL_VOL']\n",
    "df_prod['WC'] = df_prod['WAT_VOL']/(df_prod['WAT_VOL']+df_prod['OIL_VOL'])"
   ]
  },
  {
   "cell_type": "code",
   "execution_count": 135,
   "id": "051fbe68",
   "metadata": {},
   "outputs": [],
   "source": [
    "# dropping the gas volume and oil volume\n",
    "df = df_prod.drop(['GAS_VOL','WAT_VOL'], axis=1)"
   ]
  },
  {
   "cell_type": "code",
   "execution_count": 136,
   "id": "5464b3f5",
   "metadata": {},
   "outputs": [
    {
     "name": "stdout",
     "output_type": "stream",
     "text": [
      "<class 'pandas.core.frame.DataFrame'>\n",
      "Int64Index: 5940 entries, 11 to 8664\n",
      "Data columns (total 9 columns):\n",
      " #   Column                 Non-Null Count  Dtype  \n",
      "---  ------                 --------------  -----  \n",
      " 0   BH_PRESSURE            5940 non-null   float64\n",
      " 1   BH_TEMPERATURE         5940 non-null   float64\n",
      " 2   DP_TUBING              5940 non-null   float64\n",
      " 3   CHOKE_SIZE_PERCENTAGE  5940 non-null   float64\n",
      " 4   WH_PRESSURE            5940 non-null   float64\n",
      " 5   WH_TEMPERATURE         5940 non-null   float64\n",
      " 6   OIL_VOL                5940 non-null   float64\n",
      " 7   GOR                    5940 non-null   float64\n",
      " 8   WC                     5940 non-null   float64\n",
      "dtypes: float64(9)\n",
      "memory usage: 464.1 KB\n"
     ]
    }
   ],
   "source": [
    "df.info()"
   ]
  },
  {
   "cell_type": "code",
   "execution_count": 137,
   "id": "4e09e6e7",
   "metadata": {},
   "outputs": [],
   "source": [
    "y = df['BH_PRESSURE']\n",
    "parameters = ['BH_TEMPERATURE', 'DP_TUBING', 'CHOKE_SIZE_PERCENTAGE','WH_PRESSURE', 'WH_TEMPERATURE', 'OIL_VOL', 'GOR', 'WC']\n",
    "x = df[parameters]"
   ]
  },
  {
   "cell_type": "code",
   "execution_count": 138,
   "id": "44fb967c",
   "metadata": {},
   "outputs": [],
   "source": [
    "from sklearn.model_selection import train_test_split\n",
    "x_train, x_test, y_train, y_test = train_test_split(x, y, test_size=0.2, random_state=1)"
   ]
  },
  {
   "cell_type": "markdown",
   "id": "d2765987",
   "metadata": {},
   "source": [
    "## MODELLING AND PREPROCESSING"
   ]
  },
  {
   "cell_type": "code",
   "execution_count": 139,
   "id": "7bb98a37",
   "metadata": {},
   "outputs": [],
   "source": [
    "# Importing ML models\n",
    "from sklearn.linear_model import LinearRegression\n",
    "from sklearn.tree import DecisionTreeRegressor\n",
    "from sklearn.ensemble import RandomForestRegressor"
   ]
  },
  {
   "cell_type": "code",
   "execution_count": 140,
   "id": "7847e93d",
   "metadata": {},
   "outputs": [],
   "source": [
    "# Importing preprocessing functionalities\n",
    "from sklearn.preprocessing import StandardScaler\n",
    "from sklearn.pipeline import Pipeline\n",
    "# Importing metrics\n",
    "from sklearn.metrics import mean_squared_error"
   ]
  },
  {
   "cell_type": "markdown",
   "id": "77c890f5",
   "metadata": {},
   "source": [
    "### USING ML REGRESSION ALGORITHM"
   ]
  },
  {
   "cell_type": "code",
   "execution_count": 141,
   "id": "b2a7faed",
   "metadata": {},
   "outputs": [],
   "source": [
    "def genericml(model):\n",
    "    pipemodel = Pipeline([\n",
    "        ('scl', StandardScaler()),\n",
    "        ('reg', model)\n",
    "    ])\n",
    "    pipemodel.fit(x_train, y_train)\n",
    "    pipemodel.predict(x_test)\n",
    "    print('The Accuracy score of {} on TEST DATA is {} ' .format(model,pipemodel.score(x_test, y_test)))\n",
    "    print('The Accuracy score of {} on TRAIN DATA is {} '.format(model,pipemodel.score(x_train, y_train)))\n",
    "    return pipemodel"
   ]
  },
  {
   "cell_type": "code",
   "execution_count": 142,
   "id": "e7067903",
   "metadata": {},
   "outputs": [],
   "source": [
    "with open('pipeline.pkl', 'wb') as f:\n",
    "    pickle.dump(genericml,f)"
   ]
  },
  {
   "cell_type": "markdown",
   "id": "e5a511ce",
   "metadata": {},
   "source": [
    "#### LINEAR REGRESSION"
   ]
  },
  {
   "cell_type": "code",
   "execution_count": 143,
   "id": "b65d6109",
   "metadata": {},
   "outputs": [
    {
     "name": "stdout",
     "output_type": "stream",
     "text": [
      "The Accuracy score of LinearRegression() on TEST DATA is 0.9995889321569001 \n",
      "The Accuracy score of LinearRegression() on TRAIN DATA is 0.9991021407528128 \n"
     ]
    }
   ],
   "source": [
    "LRR =  genericml(LinearRegression())"
   ]
  },
  {
   "cell_type": "code",
   "execution_count": 144,
   "id": "5c05b6f6",
   "metadata": {},
   "outputs": [],
   "source": [
    "with open('lr.pkl', 'wb') as f:\n",
    "    pickle.dump(LRR,f)"
   ]
  },
  {
   "cell_type": "markdown",
   "id": "86c5f3d6",
   "metadata": {},
   "source": [
    "#### RANDOM FOREST REGRESSION"
   ]
  },
  {
   "cell_type": "code",
   "execution_count": 145,
   "id": "422096e5",
   "metadata": {},
   "outputs": [
    {
     "name": "stdout",
     "output_type": "stream",
     "text": [
      "The Accuracy score of RandomForestRegressor() on TEST DATA is 0.9929677628099458 \n",
      "The Accuracy score of RandomForestRegressor() on TRAIN DATA is 0.9970074342023616 \n"
     ]
    }
   ],
   "source": [
    "RFR = genericml(RandomForestRegressor())"
   ]
  },
  {
   "cell_type": "code",
   "execution_count": 146,
   "id": "315d697f",
   "metadata": {},
   "outputs": [],
   "source": [
    "with open('rf.pkl', 'wb') as f:\n",
    "    pickle.dump(RFR,f)"
   ]
  },
  {
   "cell_type": "markdown",
   "id": "487718a4",
   "metadata": {},
   "source": [
    "#### DECISION TREE REGRESSION"
   ]
  },
  {
   "cell_type": "code",
   "execution_count": 147,
   "id": "0648c502",
   "metadata": {
    "scrolled": false
   },
   "outputs": [
    {
     "name": "stdout",
     "output_type": "stream",
     "text": [
      "The Accuracy score of DecisionTreeRegressor() on TEST DATA is 0.9694047043904221 \n",
      "The Accuracy score of DecisionTreeRegressor() on TRAIN DATA is 1.0 \n"
     ]
    }
   ],
   "source": [
    "DTR = genericml(DecisionTreeRegressor())"
   ]
  },
  {
   "cell_type": "code",
   "execution_count": 148,
   "id": "4d0fe4de",
   "metadata": {},
   "outputs": [],
   "source": [
    "with open('DT.pkl', 'wb') as f:\n",
    "    pickle.dump(DTR,f)"
   ]
  },
  {
   "cell_type": "markdown",
   "id": "040b9160",
   "metadata": {},
   "source": [
    "### USING ARTIFICIAL NEURAL NETWORK"
   ]
  },
  {
   "cell_type": "code",
   "execution_count": 149,
   "id": "067d61ed",
   "metadata": {},
   "outputs": [],
   "source": [
    "# running an ANN\n",
    "from tensorflow.keras.models import Sequential\n",
    "from tensorflow.keras.layers import Dense, Dropout, BatchNormalization\n",
    "from tensorflow.keras import optimizers\n",
    "def annmod():\n",
    "    model = Sequential()\n",
    "    model.add(Dense(32, input_shape = (len(parameters),), activation = 'relu'))\n",
    "    model.add(Dense(32, activation = 'relu'))\n",
    "    model.add(Dense(1))\n",
    "    sgd = optimizers.Adam(learning_rate = 0.001)\n",
    "    model.compile(optimizer = sgd, loss = 'mse', metrics=['mae'])\n",
    "    model.fit(x_train, y_train.values, batch_size = 700, epochs = 500, verbose = 1)"
   ]
  },
  {
   "cell_type": "code",
   "execution_count": 150,
   "id": "daa8ad53",
   "metadata": {},
   "outputs": [],
   "source": [
    "with open('ann.pkl', 'wb') as f:\n",
    "    pickle.dump(annmod,f)"
   ]
  },
  {
   "cell_type": "markdown",
   "id": "37479b32",
   "metadata": {},
   "source": [
    "## MANUAL TESTING"
   ]
  },
  {
   "cell_type": "code",
   "execution_count": 151,
   "id": "9f021d0e",
   "metadata": {},
   "outputs": [],
   "source": [
    "x_test = x.iloc[:10]\n",
    "y_test = y.iloc[:10]"
   ]
  },
  {
   "cell_type": "code",
   "execution_count": 152,
   "id": "30caaa68",
   "metadata": {},
   "outputs": [
    {
     "name": "stdout",
     "output_type": "stream",
     "text": [
      "1/1 [==============================] - 0s 290ms/step\n"
     ]
    }
   ],
   "source": [
    "nn = model.predict(x_test).flatten()\n",
    "ann_pred = nn.tolist()\n",
    "lr = LRR.predict(x_test).flatten()\n",
    "lr_pred = lr.tolist()\n",
    "dt = DTR.predict(x_test).flatten()\n",
    "dt_pred = dt.tolist()\n",
    "rf = RFR.predict(x_test).flatten()\n",
    "rf_pred = rf.tolist()"
   ]
  },
  {
   "cell_type": "code",
   "execution_count": 153,
   "id": "2921dd35",
   "metadata": {},
   "outputs": [],
   "source": [
    "#Mean squred error\n",
    "def mse():\n",
    "    mse_ann = mean_squared_error(y_test, ann_pred)\n",
    "    mse_lr = mean_squared_error(y_test, lr_pred)\n",
    "    mse_dt = mean_squared_error(y_test, dt_pred)\n",
    "    mse_rf = mean_squared_error(y_test, rf_pred)"
   ]
  },
  {
   "cell_type": "markdown",
   "id": "0bff1eb3",
   "metadata": {},
   "source": [
    "## COMPARING PREDICTED BHP VALUES TO THE ACTUAL BHP"
   ]
  },
  {
   "cell_type": "code",
   "execution_count": 154,
   "id": "2a9f2751",
   "metadata": {},
   "outputs": [
    {
     "data": {
      "text/html": [
       "<div>\n",
       "<style scoped>\n",
       "    .dataframe tbody tr th:only-of-type {\n",
       "        vertical-align: middle;\n",
       "    }\n",
       "\n",
       "    .dataframe tbody tr th {\n",
       "        vertical-align: top;\n",
       "    }\n",
       "\n",
       "    .dataframe thead th {\n",
       "        text-align: right;\n",
       "    }\n",
       "</style>\n",
       "<table border=\"1\" class=\"dataframe\">\n",
       "  <thead>\n",
       "    <tr style=\"text-align: right;\">\n",
       "      <th></th>\n",
       "      <th>ACTUAL BHP</th>\n",
       "      <th>ANN BHP</th>\n",
       "      <th>LR BHP</th>\n",
       "      <th>DT BHP</th>\n",
       "      <th>RF BHP</th>\n",
       "    </tr>\n",
       "  </thead>\n",
       "  <tbody>\n",
       "    <tr>\n",
       "      <th>11</th>\n",
       "      <td>289.421362</td>\n",
       "      <td>288.627686</td>\n",
       "      <td>289.612995</td>\n",
       "      <td>289.421362</td>\n",
       "      <td>289.445729</td>\n",
       "    </tr>\n",
       "    <tr>\n",
       "      <th>12</th>\n",
       "      <td>270.239793</td>\n",
       "      <td>269.962128</td>\n",
       "      <td>270.598338</td>\n",
       "      <td>270.239793</td>\n",
       "      <td>270.788055</td>\n",
       "    </tr>\n",
       "    <tr>\n",
       "      <th>13</th>\n",
       "      <td>262.842747</td>\n",
       "      <td>261.896881</td>\n",
       "      <td>263.180376</td>\n",
       "      <td>262.842747</td>\n",
       "      <td>261.843393</td>\n",
       "    </tr>\n",
       "    <tr>\n",
       "      <th>14</th>\n",
       "      <td>255.526995</td>\n",
       "      <td>255.035141</td>\n",
       "      <td>255.887371</td>\n",
       "      <td>255.526995</td>\n",
       "      <td>256.548357</td>\n",
       "    </tr>\n",
       "    <tr>\n",
       "      <th>15</th>\n",
       "      <td>247.199052</td>\n",
       "      <td>246.476364</td>\n",
       "      <td>247.538774</td>\n",
       "      <td>253.090994</td>\n",
       "      <td>242.835737</td>\n",
       "    </tr>\n",
       "    <tr>\n",
       "      <th>16</th>\n",
       "      <td>240.736417</td>\n",
       "      <td>239.902832</td>\n",
       "      <td>241.059978</td>\n",
       "      <td>241.049122</td>\n",
       "      <td>238.803972</td>\n",
       "    </tr>\n",
       "    <tr>\n",
       "      <th>17</th>\n",
       "      <td>235.020931</td>\n",
       "      <td>234.216064</td>\n",
       "      <td>235.327963</td>\n",
       "      <td>235.020931</td>\n",
       "      <td>235.424609</td>\n",
       "    </tr>\n",
       "    <tr>\n",
       "      <th>18</th>\n",
       "      <td>232.743710</td>\n",
       "      <td>231.969025</td>\n",
       "      <td>233.027020</td>\n",
       "      <td>232.743710</td>\n",
       "      <td>232.618743</td>\n",
       "    </tr>\n",
       "    <tr>\n",
       "      <th>19</th>\n",
       "      <td>233.297778</td>\n",
       "      <td>232.636856</td>\n",
       "      <td>233.556659</td>\n",
       "      <td>233.297778</td>\n",
       "      <td>232.911356</td>\n",
       "    </tr>\n",
       "    <tr>\n",
       "      <th>20</th>\n",
       "      <td>231.088898</td>\n",
       "      <td>230.479980</td>\n",
       "      <td>231.336018</td>\n",
       "      <td>231.088898</td>\n",
       "      <td>231.027339</td>\n",
       "    </tr>\n",
       "  </tbody>\n",
       "</table>\n",
       "</div>"
      ],
      "text/plain": [
       "    ACTUAL BHP     ANN BHP      LR BHP      DT BHP      RF BHP\n",
       "11  289.421362  288.627686  289.612995  289.421362  289.445729\n",
       "12  270.239793  269.962128  270.598338  270.239793  270.788055\n",
       "13  262.842747  261.896881  263.180376  262.842747  261.843393\n",
       "14  255.526995  255.035141  255.887371  255.526995  256.548357\n",
       "15  247.199052  246.476364  247.538774  253.090994  242.835737\n",
       "16  240.736417  239.902832  241.059978  241.049122  238.803972\n",
       "17  235.020931  234.216064  235.327963  235.020931  235.424609\n",
       "18  232.743710  231.969025  233.027020  232.743710  232.618743\n",
       "19  233.297778  232.636856  233.556659  233.297778  232.911356\n",
       "20  231.088898  230.479980  231.336018  231.088898  231.027339"
      ]
     },
     "execution_count": 154,
     "metadata": {},
     "output_type": "execute_result"
    }
   ],
   "source": [
    "new_df = {'ACTUAL BHP':y_test, 'ANN BHP':ann_pred, 'LR BHP':lr_pred, 'DT BHP':dt_pred,'RF BHP':rf_pred}\n",
    "df = pd.DataFrame(new_df)\n",
    "df"
   ]
  },
  {
   "cell_type": "code",
   "execution_count": 155,
   "id": "8a56e2c1",
   "metadata": {},
   "outputs": [
    {
     "data": {
      "text/html": [
       "<div>\n",
       "<style scoped>\n",
       "    .dataframe tbody tr th:only-of-type {\n",
       "        vertical-align: middle;\n",
       "    }\n",
       "\n",
       "    .dataframe tbody tr th {\n",
       "        vertical-align: top;\n",
       "    }\n",
       "\n",
       "    .dataframe thead th {\n",
       "        text-align: right;\n",
       "    }\n",
       "</style>\n",
       "<table border=\"1\" class=\"dataframe\">\n",
       "  <thead>\n",
       "    <tr style=\"text-align: right;\">\n",
       "      <th></th>\n",
       "      <th>MSE_LR</th>\n",
       "      <th>MSE_DT</th>\n",
       "      <th>MSE_RF</th>\n",
       "      <th>MSE_ANN</th>\n",
       "    </tr>\n",
       "  </thead>\n",
       "  <tbody>\n",
       "    <tr>\n",
       "      <th>1</th>\n",
       "      <td>0.093186</td>\n",
       "      <td>3.481276</td>\n",
       "      <td>2.544762</td>\n",
       "      <td>0.511629</td>\n",
       "    </tr>\n",
       "    <tr>\n",
       "      <th>2</th>\n",
       "      <td>0.093186</td>\n",
       "      <td>3.481276</td>\n",
       "      <td>2.544762</td>\n",
       "      <td>0.511629</td>\n",
       "    </tr>\n",
       "    <tr>\n",
       "      <th>3</th>\n",
       "      <td>0.093186</td>\n",
       "      <td>3.481276</td>\n",
       "      <td>2.544762</td>\n",
       "      <td>0.511629</td>\n",
       "    </tr>\n",
       "    <tr>\n",
       "      <th>4</th>\n",
       "      <td>0.093186</td>\n",
       "      <td>3.481276</td>\n",
       "      <td>2.544762</td>\n",
       "      <td>0.511629</td>\n",
       "    </tr>\n",
       "    <tr>\n",
       "      <th>5</th>\n",
       "      <td>0.093186</td>\n",
       "      <td>3.481276</td>\n",
       "      <td>2.544762</td>\n",
       "      <td>0.511629</td>\n",
       "    </tr>\n",
       "    <tr>\n",
       "      <th>6</th>\n",
       "      <td>0.093186</td>\n",
       "      <td>3.481276</td>\n",
       "      <td>2.544762</td>\n",
       "      <td>0.511629</td>\n",
       "    </tr>\n",
       "    <tr>\n",
       "      <th>7</th>\n",
       "      <td>0.093186</td>\n",
       "      <td>3.481276</td>\n",
       "      <td>2.544762</td>\n",
       "      <td>0.511629</td>\n",
       "    </tr>\n",
       "    <tr>\n",
       "      <th>8</th>\n",
       "      <td>0.093186</td>\n",
       "      <td>3.481276</td>\n",
       "      <td>2.544762</td>\n",
       "      <td>0.511629</td>\n",
       "    </tr>\n",
       "    <tr>\n",
       "      <th>9</th>\n",
       "      <td>0.093186</td>\n",
       "      <td>3.481276</td>\n",
       "      <td>2.544762</td>\n",
       "      <td>0.511629</td>\n",
       "    </tr>\n",
       "    <tr>\n",
       "      <th>10</th>\n",
       "      <td>0.093186</td>\n",
       "      <td>3.481276</td>\n",
       "      <td>2.544762</td>\n",
       "      <td>0.511629</td>\n",
       "    </tr>\n",
       "  </tbody>\n",
       "</table>\n",
       "</div>"
      ],
      "text/plain": [
       "      MSE_LR    MSE_DT    MSE_RF   MSE_ANN\n",
       "1   0.093186  3.481276  2.544762  0.511629\n",
       "2   0.093186  3.481276  2.544762  0.511629\n",
       "3   0.093186  3.481276  2.544762  0.511629\n",
       "4   0.093186  3.481276  2.544762  0.511629\n",
       "5   0.093186  3.481276  2.544762  0.511629\n",
       "6   0.093186  3.481276  2.544762  0.511629\n",
       "7   0.093186  3.481276  2.544762  0.511629\n",
       "8   0.093186  3.481276  2.544762  0.511629\n",
       "9   0.093186  3.481276  2.544762  0.511629\n",
       "10  0.093186  3.481276  2.544762  0.511629"
      ]
     },
     "execution_count": 155,
     "metadata": {},
     "output_type": "execute_result"
    }
   ],
   "source": [
    "from operator import index\n",
    "\n",
    "\n",
    "err_df = {'MSE_LR':mse_lr,'MSE_DT':mse_dt,'MSE_RF':mse_rf,'MSE_ANN':mse_ann}\n",
    "df_err = pd.DataFrame(err_df, index=[1,2,3,4,5,6,7,8,9,10])\n",
    "df_err"
   ]
  },
  {
   "cell_type": "code",
   "execution_count": 156,
   "id": "0fe59c2e",
   "metadata": {},
   "outputs": [
    {
     "data": {
      "image/png": "[encoded data removed]",
      "text/plain": [
       "<Figure size 432x288 with 1 Axes>"
      ]
     },
     "metadata": {
      "needs_background": "light"
     },
     "output_type": "display_data"
    }
   ],
   "source": [
    "plt.plot(ann_pred, y_test)\n",
    "plt.xlabel('Actual BHP')\n",
    "plt.ylabel('PREDICTED BHP')\n",
    "plt.show()"
   ]
  },
  {
   "cell_type": "code",
   "execution_count": 157,
   "id": "e9c1f8bf",
   "metadata": {},
   "outputs": [
    {
     "data": {
      "image/png": "[encoded data removed]",
      "text/plain": [
       "<Figure size 432x288 with 1 Axes>"
      ]
     },
     "metadata": {
      "needs_background": "light"
     },
     "output_type": "display_data"
    }
   ],
   "source": [
    "plt.plot(lr_pred, y_test)\n",
    "plt.xlabel('Actual BHP')\n",
    "plt.ylabel('PREDICTED BHP')\n",
    "plt.show()"
   ]
  },
  {
   "cell_type": "code",
   "execution_count": 158,
   "id": "69604e4a",
   "metadata": {},
   "outputs": [
    {
     "data": {
      "image/png": "[encoded data removed]",
      "text/plain": [
       "<Figure size 432x288 with 1 Axes>"
      ]
     },
     "metadata": {
      "needs_background": "light"
     },
     "output_type": "display_data"
    }
   ],
   "source": [
    "plt.plot(dt_pred, y_test)\n",
    "plt.xlabel('Actual BHP')\n",
    "plt.ylabel('PREDICTED BHP')\n",
    "plt.show()"
   ]
  },
  {
   "cell_type": "code",
   "execution_count": 159,
   "id": "3c6e36ba",
   "metadata": {},
   "outputs": [
    {
     "data": {
      "image/png": "[encoded data removed]",
      "text/plain": [
       "<Figure size 432x288 with 1 Axes>"
      ]
     },
     "metadata": {
      "needs_background": "light"
     },
     "output_type": "display_data"
    }
   ],
   "source": [
    "plt.plot(rf_pred, y_test)\n",
    "plt.xlabel('Actual BHP')\n",
    "plt.ylabel('PREDICTED BHP')\n",
    "plt.show()"
   ]
  },
  {
   "cell_type": "code",
   "execution_count": 160,
   "id": "09dfac3a",
   "metadata": {},
   "outputs": [
    {
     "data": {
      "image/png": "[encoded data removed]",
      "text/plain": [
       "<Figure size 432x288 with 1 Axes>"
      ]
     },
     "metadata": {
      "needs_background": "light"
     },
     "output_type": "display_data"
    }
   ],
   "source": [
    "plt.plot(ann_pred, y_test, 'r',label= 'ANN')\n",
    "plt.plot(lr_pred, y_test,'g',label= 'LR')\n",
    "plt.plot(dt_pred, y_test,'b',label= 'DT')\n",
    "plt.plot(rf_pred, y_test,'y',label= 'RF')\n",
    "plt.xlabel('ACTUAL BHP')\n",
    "plt.ylabel('PREDICTED BHP')\n",
    "plt.legend()\n",
    "plt.show()"
   ]
  },
  {
   "cell_type": "code",
   "execution_count": null,
   "id": "f355e5e7",
   "metadata": {},
   "outputs": [],
   "source": []
  }
 ],
 "metadata": {
  "kernelspec": {
   "display_name": "Python 3 (ipykernel)",
   "language": "python",
   "name": "python3"
  },
  "language_info": {
   "codemirror_mode": {
    "name": "ipython",
    "version": 3
   },
   "file_extension": ".py",
   "mimetype": "text/x-python",
   "name": "python",
   "nbconvert_exporter": "python",
   "pygments_lexer": "ipython3",
   "version": "3.10.6"
  },
  "vscode": {
   "interpreter": {
    "hash": "26de051ba29f2982a8de78e945f0abaf191376122a1563185a90213a26c5da77"
   }
  }
 },
 "nbformat": 4,
 "nbformat_minor": 5
}
